{
 "cells": [
  {
   "cell_type": "code",
   "execution_count": 119,
   "id": "0a0b5b9e",
   "metadata": {},
   "outputs": [],
   "source": [
    "# Modules\n",
    "import pandas as pd\n",
    "import numpy as np\n",
    "\n",
    "# Model modules\n",
    "from sklearn.linear_model import LinearRegression\n",
    "\n",
    "from tableone import TableOne # for the descriptive table"
   ]
  },
  {
   "cell_type": "code",
   "execution_count": 109,
   "id": "b0d7a7ac",
   "metadata": {},
   "outputs": [],
   "source": [
    "def read_prepare_initial_data(path):\n",
    "    # Read, prepare, anonimize the initial data\n",
    "    df = pd.read_sas(path)\n",
    "    \n",
    "    # Select only relevant columns\n",
    "    df = df[['Amzius', 'PSA', 'naujasCT', 'BxGleason', 'Bxkodas', 'RP_GG', 'pT', \n",
    "             'LNI01', 'R', 'PSAdaugiau0_1', 'BCR', 'MTS', 'SURVIVAL', 'OS', 'CSS',\n",
    "             'DAmico', 'Rpgleson', 'TRYSgrupes', 'PLNDO1']]\n",
    "    \n",
    "    # Create survival column in years\n",
    "    df[\"survival_years\"] = df[\"SURVIVAL\"] / 12\n",
    "    \n",
    "    # Rename the column names\n",
    "    df.rename(columns = {'Amzius': 'age', 'PSA': 'psa', 'naujasCT': 'clinical_stage', \n",
    "                         'Bxkodas': 'biopsy_gleason_gg', 'RP_GG': 'pathological_gleason_gg',\n",
    "                         'pT': 'pathologic_stage', 'LNI01': 'lni', 'R': 'surgical_margin_status', \n",
    "                         'PSAdaugiau0_1': 'persistent_psa', 'SURVIVAL': 'survival_months', \n",
    "                         'BCR': 'bcr', 'MTS': 'mts', 'OS': 'overall_mortality', \n",
    "                         'CSS': 'cancer_specific_mortality'}, \n",
    "               inplace = True)\n",
    "    \n",
    "    # Fill the LNI column NA values with 'unknown' value\n",
    "    df.fillna({'lni': 'unknown', 'r': 'unknown'}, inplace = True)\n",
    "    \n",
    "    # Drop rows with NA values, every row must have 0 NA values\n",
    "    df.dropna(thresh=df.shape[1], inplace = True)\n",
    "    \n",
    "    # Change the data types of categorical columns to 'category'\n",
    "    df = df.astype({'clinical_stage': 'category', 'biopsy_gleason_gg': 'category', \n",
    "                    'pathological_gleason_gg': 'category', 'pathologic_stage': 'category',\n",
    "                    'lni': 'category', 'surgical_margin_status': 'category', \n",
    "                    'persistent_psa': 'category', 'bcr': 'category', 'mts': 'category', \n",
    "                    'overall_mortality': 'category', 'cancer_specific_mortality': 'category', \n",
    "                    'DAmico': 'category', 'TRYSgrupes': 'category', 'PLNDO1': 'category'})\n",
    "    \n",
    "    return df\n",
    "\n",
    "\n",
    "def desciptive_table(df):\n",
    "    mytable = TableOne(df, missing=False, rename={'age': 'Age (years)'}, sort=False)\n",
    "    # print(mytable.tabulate(tablefmt=\"github\"))\n",
    "    return mytable\n",
    "\n",
    "\n",
    "def add_target_column(df, target_column, time, survival_column='survival_months'):\n",
    "    # Function will add a new column which marks patients as '1' if they had an event (died)\n",
    "    # from 'target_column' by 'time' based on 'survival_column'\n",
    "    df['target'] = np.where((df[survival_column] < time) & (df[target_column] == 1), 1, 0)\n",
    "    return df\n",
    "\n",
    "\n",
    "def split_and_prepare_data(df):\n",
    "    # Function will split the data into training and testing data and also remove the \n",
    "    # other target columns from the data\n",
    "    X_train, X_test, y_train, y_test = train_test_split(data.drop(['bcr', 'mts', 'overall_mortality', 'cancer_specific_mortality', 'target'], axis=1), \n",
    "                                                    data[['target']], test_size=0.20, random_state=1, stratify=data[['target']])\n",
    "    return X_train, X_test, y_train, y_test"
   ]
  },
  {
   "cell_type": "code",
   "execution_count": 105,
   "id": "7e4486b6",
   "metadata": {},
   "outputs": [],
   "source": [
    "data_path = 'Data/persistentpsa_3.sas7bdat'\n",
    "data = read_prepare_initial_data(data_path)\n"
   ]
  },
  {
   "cell_type": "code",
   "execution_count": 111,
   "id": "c9569a5f",
   "metadata": {},
   "outputs": [
    {
     "name": "stdout",
     "output_type": "stream",
     "text": [
      "(1252, 16) (313, 16)\n"
     ]
    }
   ],
   "source": [
    "temp = add_target_column(data, 'cancer_specific_mortality', 50)\n",
    "X_train, X_test, y_train, y_test = split_and_prepare_data(temp)\n",
    "\n",
    "print(X_train.shape, X_test.shape)"
   ]
  },
  {
   "cell_type": "code",
   "execution_count": 118,
   "id": "1e306e72",
   "metadata": {},
   "outputs": [
    {
     "data": {
      "text/html": [
       "<div>\n",
       "<style scoped>\n",
       "    .dataframe tbody tr th:only-of-type {\n",
       "        vertical-align: middle;\n",
       "    }\n",
       "\n",
       "    .dataframe tbody tr th {\n",
       "        vertical-align: top;\n",
       "    }\n",
       "\n",
       "    .dataframe thead th {\n",
       "        text-align: right;\n",
       "    }\n",
       "</style>\n",
       "<table border=\"1\" class=\"dataframe\">\n",
       "  <thead>\n",
       "    <tr style=\"text-align: right;\">\n",
       "      <th></th>\n",
       "    </tr>\n",
       "    <tr>\n",
       "      <th>target</th>\n",
       "    </tr>\n",
       "  </thead>\n",
       "  <tbody>\n",
       "    <tr>\n",
       "      <th>0</th>\n",
       "    </tr>\n",
       "    <tr>\n",
       "      <th>1</th>\n",
       "    </tr>\n",
       "  </tbody>\n",
       "</table>\n",
       "</div>"
      ],
      "text/plain": [
       "Empty DataFrame\n",
       "Columns: []\n",
       "Index: [0, 1]"
      ]
     },
     "execution_count": 118,
     "metadata": {},
     "output_type": "execute_result"
    }
   ],
   "source": []
  },
  {
   "cell_type": "code",
   "execution_count": 75,
   "id": "c4db72e0",
   "metadata": {},
   "outputs": [
    {
     "data": {
      "image/png": "[encoded data removed]",
      "text/plain": [
       "<Figure size 640x480 with 1 Axes>"
      ]
     },
     "metadata": {},
     "output_type": "display_data"
    }
   ],
   "source": [
    "#KM curve\n",
    "from lifelines import KaplanMeierFitter\n",
    "group1=data[data['lni']==1]\n",
    "group2=data[data['lni']==0]\n",
    "group3=data[data['lni']=='unknown']\n",
    "T=group1['survival_years']\n",
    "E=group1['cancer_specific_mortality']\n",
    "T1=group2['survival_years']\n",
    "E1=group2['cancer_specific_mortality']\n",
    "T2=group3['survival_years']\n",
    "E2=group3['cancer_specific_mortality']\n",
    "\n",
    "kmf = KaplanMeierFitter()\n",
    "\n",
    "ax = plt.subplot(111)\n",
    "ax = kmf.fit(T, E, label=\"Group 1\").plot_survival_function(ax=ax)\n",
    "ax = kmf.fit(T1, E1, label=\"Group 2\").plot_survival_function(ax=ax)\n",
    "ax = kmf.fit(T2, E2, label=\"Group 3\").plot_survival_function(ax=ax)"
   ]
  },
  {
   "cell_type": "code",
   "execution_count": null,
   "id": "1cf2516d",
   "metadata": {},
   "outputs": [],
   "source": []
  }
 ],
 "metadata": {
  "kernelspec": {
   "display_name": "Python 3 (ipykernel)",
   "language": "python",
   "name": "python3"
  },
  "language_info": {
   "codemirror_mode": {
    "name": "ipython",
    "version": 3
   },
   "file_extension": ".py",
   "mimetype": "text/x-python",
   "name": "python",
   "nbconvert_exporter": "python",
   "pygments_lexer": "ipython3",
   "version": "3.10.4"
  }
 },
 "nbformat": 4,
 "nbformat_minor": 5
}
